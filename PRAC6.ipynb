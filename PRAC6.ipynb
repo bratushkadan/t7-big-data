{
 "cells": [
  {
   "cell_type": "code",
   "execution_count": 12,
   "id": "873afae8-0c73-4ac3-ac8a-d7b1c80c8bf6",
   "metadata": {},
   "outputs": [
    {
     "name": "stdout",
     "output_type": "stream",
     "text": [
      "<class 'pandas.core.frame.DataFrame'>\n",
      "RangeIndex: 200 entries, 0 to 199\n",
      "Data columns (total 5 columns):\n",
      " #   Column          Non-Null Count  Dtype \n",
      "---  ------          --------------  ----- \n",
      " 0   customer_id     200 non-null    int64 \n",
      " 1   gender          200 non-null    object\n",
      " 2   age             200 non-null    int64 \n",
      " 3   annual_income   200 non-null    int64 \n",
      " 4   spending_score  200 non-null    int64 \n",
      "dtypes: int64(4), object(1)\n",
      "memory usage: 7.9+ KB\n"
     ]
    }
   ],
   "source": [
    "import pandas as pd\n",
    "# https://www.kaggle.com/datasets/vjchoudhary7/customer-segmentation-tutorial-in-python\n",
    "\n",
    "df = pd.read_csv(\"datasets/pr6/mall_customers.csv\")\n",
    "\n",
    "df.info()"
   ]
  },
  {
   "cell_type": "code",
   "execution_count": null,
   "id": "3e813a27-6ec1-421e-b872-ed61ad82f46c",
   "metadata": {},
   "outputs": [],
   "source": []
  }
 ],
 "metadata": {
  "kernelspec": {
   "display_name": "Python 3 (ipykernel)",
   "language": "python",
   "name": "python3"
  },
  "language_info": {
   "codemirror_mode": {
    "name": "ipython",
    "version": 3
   },
   "file_extension": ".py",
   "mimetype": "text/x-python",
   "name": "python",
   "nbconvert_exporter": "python",
   "pygments_lexer": "ipython3",
   "version": "3.12.5"
  }
 },
 "nbformat": 4,
 "nbformat_minor": 5
}
