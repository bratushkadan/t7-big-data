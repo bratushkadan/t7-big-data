{
 "cells": [
  {
   "cell_type": "code",
   "execution_count": 65,
   "id": "873afae8-0c73-4ac3-ac8a-d7b1c80c8bf6",
   "metadata": {},
   "outputs": [
    {
     "name": "stdout",
     "output_type": "stream",
     "text": [
      "[0, 'Brown Dwarf'] [1, 'Hypergiant'] [2, 'Main Sequence'] [3, 'Red Dwarf'] [4, 'Supergiant'] [5, 'White Dwarf']\n",
      "\n",
      "[0, 'blue'] [1, 'blue white'] [2, 'blue-white'] [3, 'orange'] [4, 'orange-red'] [5, 'pale yellow orange'] [6, 'red'] [7, 'white'] [8, 'white-yellow'] [9, 'whitish'] [10, 'yellow-white'] [11, 'yellowish'] [12, 'yellowish white']\n",
      "\n",
      "[0, 'A'] [1, 'B'] [2, 'F'] [3, 'G'] [4, 'K'] [5, 'M'] [6, 'O']\n",
      "\n",
      "<class 'pandas.core.frame.DataFrame'>\n",
      "RangeIndex: 240 entries, 0 to 239\n",
      "Data columns (total 8 columns):\n",
      " #   Column                   Non-Null Count  Dtype  \n",
      "---  ------                   --------------  -----  \n",
      " 0   Temperature (K)          240 non-null    int64  \n",
      " 1   Luminosity (L/Lo)        240 non-null    float64\n",
      " 2   Radius (R/Ro)            240 non-null    float64\n",
      " 3   Absolute magnitude (Mv)  240 non-null    float64\n",
      " 4   Star type                240 non-null    int64  \n",
      " 5   Star category            240 non-null    int64  \n",
      " 6   Star color               240 non-null    int64  \n",
      " 7   Spectral Class           240 non-null    int64  \n",
      "dtypes: float64(3), int64(5)\n",
      "memory usage: 15.1 KB\n"
     ]
    }
   ],
   "source": [
    "# 1. Найти данные для задачи классификации или для задачи регрессии\n",
    "# (Задача классификации)\n",
    "import pandas as pd\n",
    "from sklearn.preprocessing import LabelEncoder\n",
    "# https://www.kaggle.com/code/ybifoundation/stars-classification/notebook\n",
    "# https://github.com/YBIFoundation/Dataset/raw/main/Stars.csv\n",
    "\n",
    "df = pd.read_csv(\"datasets/pr7/Stars.csv\")\n",
    "\n",
    "# df = df.drop(columns=['customer_id'])\n",
    "\n",
    "df['Star color'] = df['Star color'].str.lower().str.strip()\n",
    "\n",
    "le = LabelEncoder()\n",
    "# Star category - класс\n",
    "df['Star category'] = le.fit_transform(df['Star category'])\n",
    "print(*[[i, v] for i, v in enumerate(le.classes_)])\n",
    "print()\n",
    "df['Star color'] = le.fit_transform(df['Star color'])\n",
    "print(*[[i, v] for i, v in enumerate(le.classes_)])\n",
    "print()\n",
    "df['Spectral Class'] = le.fit_transform(df['Spectral Class'])\n",
    "print(*[[i, v] for i, v in enumerate(le.classes_)])\n",
    "print()\n",
    "\n",
    "df.info()"
   ]
  },
  {
   "cell_type": "code",
   "execution_count": 100,
   "id": "c6da4fc2-3e8e-4b64-9b2e-dfe98727972a",
   "metadata": {},
   "outputs": [
    {
     "name": "stdout",
     "output_type": "stream",
     "text": [
      "Время работы bagging: 0.01268с\n",
      "F1-мера («точность») bagging-модели: 100.00%\n",
      "\n",
      "Матрица ошибок bagging-модели:\n",
      "[[10  0  0  0  0  0]\n",
      " [ 0  6  0  0  0  0]\n",
      " [ 0  0  9  0  0  0]\n",
      " [ 0  0  0  9  0  0]\n",
      " [ 0  0  0  0  5  0]\n",
      " [ 0  0  0  0  0  9]]\n",
      "\n",
      "Multiclass ROC AUC Score (OVR): 1.00\n"
     ]
    }
   ],
   "source": [
    "# 2. Реализовать баггинг.\n",
    "import numpy as np\n",
    "from sklearn.model_selection import train_test_split\n",
    "from sklearn import metrics\n",
    "from sklearn.ensemble import BaggingClassifier\n",
    "from xgboost import XGBClassifier\n",
    "import time\n",
    "\n",
    "y = df['Star category']\n",
    "X = df.drop(columns=['Star category'])\n",
    "X_train, X_test, Y_train, Y_test = train_test_split(X, y, test_size=0.2, random_state=52)\n",
    "\n",
    "start = time.perf_counter()\n",
    "baggingCl = BaggingClassifier(n_estimators=10, random_state=123, bootstrap=True)\n",
    "baggingCl = baggingCl.fit(X_train, Y_train)\n",
    "test_predict = baggingCl.predict(X_test)\n",
    "baggingCl_score = baggingCl.score(X_test, Y_test)\n",
    "\n",
    "bagging_time = time.perf_counter() - start\n",
    "\n",
    "print(f\"Время работы bagging: {bagging_time:.5f}с\")\n",
    "print(f\"F1-мера («точность») bagging-модели: {round(baggingCl_score * 100):.2f}%\")\n",
    "print()\n",
    "print(\"Матрица ошибок bagging-модели:\")\n",
    "print(metrics.confusion_matrix(Y_test, test_predict))\n",
    "print()\n",
    "\n",
    "y_predict = baggingCl.predict_proba(X_test)\n",
    "\n",
    "# показатель качества классификационной модели для многоклассовой задачи\n",
    "auc = metrics.roc_auc_score(Y_test, y_predict, multi_class='ovr')\n",
    "print(f\"Multiclass ROC AUC Score (OVR): {auc:.2f}\")"
   ]
  },
  {
   "cell_type": "code",
   "execution_count": 99,
   "id": "7193ab5d-fba1-4e51-aafb-2d6e32029108",
   "metadata": {},
   "outputs": [
    {
     "name": "stdout",
     "output_type": "stream",
     "text": [
      "Время работы boosting: 0.17459с\n",
      "F1-мера («точность») boosting-модели: 98.00%\n",
      "\n",
      "Матрица ошибок boosting-модели:\n",
      "[[10  0  0  0  0  0]\n",
      " [ 0  5  0  0  1  0]\n",
      " [ 0  0  9  0  0  0]\n",
      " [ 0  0  0  9  0  0]\n",
      " [ 0  0  0  0  5  0]\n",
      " [ 0  0  0  0  0  9]]\n",
      "\n",
      "Multiclass ROC AUC Score (OVR): 1.00\n"
     ]
    }
   ],
   "source": [
    "# 3. Реализовать бустинг на тех же данных, что использовались для баггинга.\n",
    "\n",
    "X_train, X_test, Y_train, Y_test = train_test_split(X, y, test_size=0.2, random_state=52)\n",
    "\n",
    "start = time.perf_counter()\n",
    "xgbCl = XGBClassifier()\n",
    "xgbCl = xgbCl.fit(X_train, Y_train)\n",
    "test_predict = xgbCl.predict(X_test)\n",
    "xgbCl_score = xgbCl.score(X_test, Y_test)\n",
    "\n",
    "boosting_time = time.perf_counter() - start\n",
    "\n",
    "# 4. Сравнить результаты работы алгоритмов (время работы и\n",
    "# качество моделей). Сделать выводы.\n",
    "\n",
    "\n",
    "print(f\"Время работы boosting: {boosting_time:.5f}с\")\n",
    "print(f\"F1-мера («точность») boosting-модели: {round(xgbCl_score * 100):.2f}%\")\n",
    "print()\n",
    "print(\"Матрица ошибок boosting-модели:\")\n",
    "print(metrics.confusion_matrix(Y_test, test_predict))\n",
    "print()\n",
    "\n",
    "y_predict = xgbCl.predict_proba(X_test)\n",
    "\n",
    "# показатель качества классификационной модели для многоклассовой задачи\n",
    "auc = metrics.roc_auc_score(Y_test, y_predict, multi_class='ovr')\n",
    "print(f\"Multiclass ROC AUC Score (OVR): {auc:.2f}\")"
   ]
  }
 ],
 "metadata": {
  "kernelspec": {
   "display_name": "Python 3 (ipykernel)",
   "language": "python",
   "name": "python3"
  },
  "language_info": {
   "codemirror_mode": {
    "name": "ipython",
    "version": 3
   },
   "file_extension": ".py",
   "mimetype": "text/x-python",
   "name": "python",
   "nbconvert_exporter": "python",
   "pygments_lexer": "ipython3",
   "version": "3.12.5"
  }
 },
 "nbformat": 4,
 "nbformat_minor": 5
}
