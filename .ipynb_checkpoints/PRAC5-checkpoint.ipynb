{
 "cells": [
  {
   "cell_type": "code",
   "execution_count": null,
   "id": "b0f126eb-e3d4-472f-b93e-8388237968cd",
   "metadata": {},
   "outputs": [],
   "source": [
    "import pandas as pd\n",
    "\n",
    "# https://github.com/tylerrussin/Fish-Dimensions-Regression-Analysis/blob/master/assets/data/Fish.csv\n",
    "df = pd.read_csv(\"datasets/pr5/fish.csv\")"
   ]
  }
 ],
 "metadata": {
  "kernelspec": {
   "display_name": "notebook-venv",
   "language": "python",
   "name": "notebook-venv"
  },
  "language_info": {
   "codemirror_mode": {
    "name": "ipython",
    "version": 3
   },
   "file_extension": ".py",
   "mimetype": "text/x-python",
   "name": "python",
   "nbconvert_exporter": "python",
   "pygments_lexer": "ipython3",
   "version": "3.12.5"
  }
 },
 "nbformat": 4,
 "nbformat_minor": 5
}
