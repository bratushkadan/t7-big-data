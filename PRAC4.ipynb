{
 "cells": [
  {
   "cell_type": "code",
   "execution_count": 34,
   "id": "9a46f4d1-5ffa-49f8-8714-a8d6952a530d",
   "metadata": {},
   "outputs": [],
   "source": [
    "# 2. Найти и выгрузить данные. Вывести, провести предобработку и\n",
    "# описать признаки.\n",
    "import pandas as pd\n",
    "\n",
    "df = pd.read_csv(\"datasets/pr4/titanic.csv\")\n",
    "\n",
    "# print(df.head(10))\n",
    "\n",
    "missing_values = df.isna().sum()\n",
    "if missing_values.any():\n",
    "    # interpolation\n",
    "    df = df.fillna(df.mean())"
   ]
  },
  {
   "cell_type": "code",
   "execution_count": 42,
   "id": "8ac293dc-7a16-4f51-8d79-52a0140615e7",
   "metadata": {},
   "outputs": [
    {
     "name": "stdout",
     "output_type": "stream",
     "text": [
      "-1.0000\n"
     ]
    }
   ],
   "source": [
    "import numpy as np\n",
    "\n",
    "# Пн, Вт, Ср, Чт, Пт\n",
    "v1 = np.array([80, 98, 75, 91, 78]) # улица\n",
    "v2 = np.array([100, 82, 105, 89, 102]) # гараж\n",
    "\n",
    "corr_matrix = np.corrcoef(v1, v2)\n",
    "print(f'{corr_matrix[0, 1]:.4f}')"
   ]
  },
  {
   "cell_type": "code",
   "execution_count": null,
   "id": "d9da4a1f-c5cf-4907-98d3-fd4244ba1f65",
   "metadata": {},
   "outputs": [],
   "source": [
    "# 1"
   ]
  }
 ],
 "metadata": {
  "kernelspec": {
   "display_name": "notebook-venv",
   "language": "python",
   "name": "notebook-venv"
  },
  "language_info": {
   "codemirror_mode": {
    "name": "ipython",
    "version": 3
   },
   "file_extension": ".py",
   "mimetype": "text/x-python",
   "name": "python",
   "nbconvert_exporter": "python",
   "pygments_lexer": "ipython3",
   "version": "3.12.5"
  }
 },
 "nbformat": 4,
 "nbformat_minor": 5
}
